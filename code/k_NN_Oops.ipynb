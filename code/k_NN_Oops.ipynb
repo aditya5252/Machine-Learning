{
 "cells": [
  {
   "cell_type": "code",
   "execution_count": 169,
   "id": "2d49c257",
   "metadata": {},
   "outputs": [],
   "source": [
    "import numpy as np\n",
    "import pandas as pd\n",
    "from sklearn.model_selection import train_test_split\n",
    "import statistics"
   ]
  },
  {
   "cell_type": "code",
   "execution_count": 4,
   "id": "269371cc",
   "metadata": {},
   "outputs": [],
   "source": [
    "df = pd.read_csv('../data/iris.csv')"
   ]
  },
  {
   "cell_type": "code",
   "execution_count": 5,
   "id": "f36936a1",
   "metadata": {},
   "outputs": [
    {
     "data": {
      "text/html": [
       "<div>\n",
       "<style scoped>\n",
       "    .dataframe tbody tr th:only-of-type {\n",
       "        vertical-align: middle;\n",
       "    }\n",
       "\n",
       "    .dataframe tbody tr th {\n",
       "        vertical-align: top;\n",
       "    }\n",
       "\n",
       "    .dataframe thead th {\n",
       "        text-align: right;\n",
       "    }\n",
       "</style>\n",
       "<table border=\"1\" class=\"dataframe\">\n",
       "  <thead>\n",
       "    <tr style=\"text-align: right;\">\n",
       "      <th></th>\n",
       "      <th>Id</th>\n",
       "      <th>SepalLengthCm</th>\n",
       "      <th>SepalWidthCm</th>\n",
       "      <th>PetalLengthCm</th>\n",
       "      <th>PetalWidthCm</th>\n",
       "      <th>Species</th>\n",
       "    </tr>\n",
       "  </thead>\n",
       "  <tbody>\n",
       "    <tr>\n",
       "      <th>145</th>\n",
       "      <td>146</td>\n",
       "      <td>6.7</td>\n",
       "      <td>3.0</td>\n",
       "      <td>5.2</td>\n",
       "      <td>2.3</td>\n",
       "      <td>Iris-virginica</td>\n",
       "    </tr>\n",
       "    <tr>\n",
       "      <th>146</th>\n",
       "      <td>147</td>\n",
       "      <td>6.3</td>\n",
       "      <td>2.5</td>\n",
       "      <td>5.0</td>\n",
       "      <td>1.9</td>\n",
       "      <td>Iris-virginica</td>\n",
       "    </tr>\n",
       "    <tr>\n",
       "      <th>147</th>\n",
       "      <td>148</td>\n",
       "      <td>6.5</td>\n",
       "      <td>3.0</td>\n",
       "      <td>5.2</td>\n",
       "      <td>2.0</td>\n",
       "      <td>Iris-virginica</td>\n",
       "    </tr>\n",
       "    <tr>\n",
       "      <th>148</th>\n",
       "      <td>149</td>\n",
       "      <td>6.2</td>\n",
       "      <td>3.4</td>\n",
       "      <td>5.4</td>\n",
       "      <td>2.3</td>\n",
       "      <td>Iris-virginica</td>\n",
       "    </tr>\n",
       "    <tr>\n",
       "      <th>149</th>\n",
       "      <td>150</td>\n",
       "      <td>5.9</td>\n",
       "      <td>3.0</td>\n",
       "      <td>5.1</td>\n",
       "      <td>1.8</td>\n",
       "      <td>Iris-virginica</td>\n",
       "    </tr>\n",
       "  </tbody>\n",
       "</table>\n",
       "</div>"
      ],
      "text/plain": [
       "      Id  SepalLengthCm  SepalWidthCm  PetalLengthCm  PetalWidthCm  \\\n",
       "145  146            6.7           3.0            5.2           2.3   \n",
       "146  147            6.3           2.5            5.0           1.9   \n",
       "147  148            6.5           3.0            5.2           2.0   \n",
       "148  149            6.2           3.4            5.4           2.3   \n",
       "149  150            5.9           3.0            5.1           1.8   \n",
       "\n",
       "            Species  \n",
       "145  Iris-virginica  \n",
       "146  Iris-virginica  \n",
       "147  Iris-virginica  \n",
       "148  Iris-virginica  \n",
       "149  Iris-virginica  "
      ]
     },
     "execution_count": 5,
     "metadata": {},
     "output_type": "execute_result"
    }
   ],
   "source": [
    "df.tail()"
   ]
  },
  {
   "cell_type": "code",
   "execution_count": 84,
   "id": "c6aa0f0a",
   "metadata": {},
   "outputs": [],
   "source": [
    "X=df.iloc[:,3:5].to_numpy()\n",
    "y= df['Species'].replace({'Iris-setosa':0, 'Iris-versicolor':1, 'Iris-virginica':2}).to_numpy()"
   ]
  },
  {
   "cell_type": "code",
   "execution_count": 138,
   "id": "dd4456ed",
   "metadata": {},
   "outputs": [],
   "source": [
    "X_train, X_test, y_train, y_test = train_test_split(X,y, test_size=0.3, random_state=123, shuffle=True)"
   ]
  },
  {
   "cell_type": "code",
   "execution_count": 184,
   "id": "94c844bc",
   "metadata": {},
   "outputs": [],
   "source": [
    "class K_NN_Classifier:\n",
    "    \n",
    "    def __init__(self,K):\n",
    "        self.K = K\n",
    "        \n",
    "    def fit(self,X_train, y_train):\n",
    "        self.X_train = X_train\n",
    "        self.y_train = y_train\n",
    "        self.m, self.n = self.X_train.shape\n",
    "        \n",
    "    def predict(self,x):\n",
    "        labels=y_train[self.find_neighbors(x)]\n",
    "        y_hat =  statistics.mode(labels)\n",
    "        return y_hat\n",
    "    \n",
    "    def find_neighbors(self,x):\n",
    "        dist_arr = np.array([euclidian(self.X_train[i],x) for i in range(self.m)])\n",
    "        return np.argsort(dist_arr)[:self.K]\n",
    "    \n",
    "    def euclidian(x1,x2):\n",
    "        return np.sqrt(np.sum(np.square(x1-x2)))"
   ]
  },
  {
   "cell_type": "code",
   "execution_count": 185,
   "id": "7fc92b25",
   "metadata": {},
   "outputs": [],
   "source": [
    "knn=K_NN_Classifier(5)\n",
    "\n",
    "knn.fit(X_train,y_train)\n",
    "\n",
    "y_test_pred=np.array([knn.predict(X_test[i]) for i in range(len(X_test))])"
   ]
  },
  {
   "cell_type": "code",
   "execution_count": 197,
   "id": "fc5bc85b",
   "metadata": {},
   "outputs": [
    {
     "name": "stdout",
     "output_type": "stream",
     "text": [
      "The accuracy is 95.55555555555556\n"
     ]
    }
   ],
   "source": [
    "acc = sum(y_test_pred==y_test)*100/y_test.shape[0]\n",
    "print(f'The accuracy is {acc}')"
   ]
  },
  {
   "cell_type": "code",
   "execution_count": 199,
   "id": "0633de61",
   "metadata": {},
   "outputs": [],
   "source": [
    "def distance(x1,x2):\n",
    "    return np.sqrt(sum((x1-x2)**2))\n",
    "\n",
    "\n",
    "def k_NN_classifier(x1,X_train, N):\n",
    "    index_ls = []\n",
    "#     D = X_train.copy()\n",
    "    j=0\n",
    "    while (j<N):\n",
    "        \n",
    "        d=np.inf\n",
    "        for i in range(X_train.shape[0]):\n",
    "            if(i in index_ls):\n",
    "                continue\n",
    "            if (distance(x1,X_train[i]) < d):\n",
    "                d = distance(x1,X_train[i])\n",
    "                index = i \n",
    "        index_ls.append(index)\n",
    "        \n",
    "        j+=1\n",
    "#     y_hat = statistics.mode(y_train[index_ls])\n",
    "    return index_ls\n",
    "# , y_hat"
   ]
  },
  {
   "cell_type": "code",
   "execution_count": 204,
   "id": "b2bed3ff",
   "metadata": {},
   "outputs": [],
   "source": [
    "yhat=np.array([statistics.mode(y_train[k_NN_classifier(X_test[i],X_train,5)]) for i in range(X_test.shape[0])])"
   ]
  },
  {
   "cell_type": "code",
   "execution_count": 205,
   "id": "ec91c24e",
   "metadata": {},
   "outputs": [
    {
     "name": "stdout",
     "output_type": "stream",
     "text": [
      "The accuracy is 95.55555555555556\n"
     ]
    }
   ],
   "source": [
    "acc = sum(yhat==y_test)*100/y_test.shape[0]\n",
    "print(f'The accuracy is {acc}')"
   ]
  },
  {
   "cell_type": "code",
   "execution_count": 207,
   "id": "71d6439a",
   "metadata": {},
   "outputs": [],
   "source": [
    "from sklearn.neighbors import KNeighborsClassifier \n",
    "\n",
    "model1 = KNeighborsClassifier( n_neighbors = 3 ) \n",
    "\n",
    "model1.fit( X_train, y_train ) \n",
    "\n",
    "# Prediction on test set \n",
    "\n",
    "Y_pred = model1.predict( X_test )"
   ]
  },
  {
   "cell_type": "code",
   "execution_count": 208,
   "id": "08e75ef5",
   "metadata": {},
   "outputs": [
    {
     "name": "stdout",
     "output_type": "stream",
     "text": [
      "The accuracy is 95.55555555555556\n"
     ]
    }
   ],
   "source": [
    "acc = sum(Y_pred==y_test)*100/y_test.shape[0]\n",
    "print(f'The accuracy is {acc}')"
   ]
  },
  {
   "cell_type": "code",
   "execution_count": null,
   "id": "47ac8eb5",
   "metadata": {},
   "outputs": [],
   "source": []
  }
 ],
 "metadata": {
  "kernelspec": {
   "display_name": "Python 3 (ipykernel)",
   "language": "python",
   "name": "python3"
  },
  "language_info": {
   "codemirror_mode": {
    "name": "ipython",
    "version": 3
   },
   "file_extension": ".py",
   "mimetype": "text/x-python",
   "name": "python",
   "nbconvert_exporter": "python",
   "pygments_lexer": "ipython3",
   "version": "3.10.9"
  }
 },
 "nbformat": 4,
 "nbformat_minor": 5
}
