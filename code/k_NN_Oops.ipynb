{
 "cells": [
  {
   "cell_type": "code",
   "execution_count": 3,
   "id": "bc9f9dc4",
   "metadata": {},
   "outputs": [],
   "source": [
    "import numpy as np\n",
    "import pandas as pd\n",
    "from sklearn.model_selection import train_test_split"
   ]
  },
  {
   "cell_type": "code",
   "execution_count": 4,
   "id": "a4209a1c",
   "metadata": {},
   "outputs": [],
   "source": [
    "df = pd.read_csv('../data/iris.csv')"
   ]
  },
  {
   "cell_type": "code",
   "execution_count": 5,
   "id": "b7d36c69",
   "metadata": {},
   "outputs": [
    {
     "data": {
      "text/html": [
       "<div>\n",
       "<style scoped>\n",
       "    .dataframe tbody tr th:only-of-type {\n",
       "        vertical-align: middle;\n",
       "    }\n",
       "\n",
       "    .dataframe tbody tr th {\n",
       "        vertical-align: top;\n",
       "    }\n",
       "\n",
       "    .dataframe thead th {\n",
       "        text-align: right;\n",
       "    }\n",
       "</style>\n",
       "<table border=\"1\" class=\"dataframe\">\n",
       "  <thead>\n",
       "    <tr style=\"text-align: right;\">\n",
       "      <th></th>\n",
       "      <th>Id</th>\n",
       "      <th>SepalLengthCm</th>\n",
       "      <th>SepalWidthCm</th>\n",
       "      <th>PetalLengthCm</th>\n",
       "      <th>PetalWidthCm</th>\n",
       "      <th>Species</th>\n",
       "    </tr>\n",
       "  </thead>\n",
       "  <tbody>\n",
       "    <tr>\n",
       "      <th>145</th>\n",
       "      <td>146</td>\n",
       "      <td>6.7</td>\n",
       "      <td>3.0</td>\n",
       "      <td>5.2</td>\n",
       "      <td>2.3</td>\n",
       "      <td>Iris-virginica</td>\n",
       "    </tr>\n",
       "    <tr>\n",
       "      <th>146</th>\n",
       "      <td>147</td>\n",
       "      <td>6.3</td>\n",
       "      <td>2.5</td>\n",
       "      <td>5.0</td>\n",
       "      <td>1.9</td>\n",
       "      <td>Iris-virginica</td>\n",
       "    </tr>\n",
       "    <tr>\n",
       "      <th>147</th>\n",
       "      <td>148</td>\n",
       "      <td>6.5</td>\n",
       "      <td>3.0</td>\n",
       "      <td>5.2</td>\n",
       "      <td>2.0</td>\n",
       "      <td>Iris-virginica</td>\n",
       "    </tr>\n",
       "    <tr>\n",
       "      <th>148</th>\n",
       "      <td>149</td>\n",
       "      <td>6.2</td>\n",
       "      <td>3.4</td>\n",
       "      <td>5.4</td>\n",
       "      <td>2.3</td>\n",
       "      <td>Iris-virginica</td>\n",
       "    </tr>\n",
       "    <tr>\n",
       "      <th>149</th>\n",
       "      <td>150</td>\n",
       "      <td>5.9</td>\n",
       "      <td>3.0</td>\n",
       "      <td>5.1</td>\n",
       "      <td>1.8</td>\n",
       "      <td>Iris-virginica</td>\n",
       "    </tr>\n",
       "  </tbody>\n",
       "</table>\n",
       "</div>"
      ],
      "text/plain": [
       "      Id  SepalLengthCm  SepalWidthCm  PetalLengthCm  PetalWidthCm  \\\n",
       "145  146            6.7           3.0            5.2           2.3   \n",
       "146  147            6.3           2.5            5.0           1.9   \n",
       "147  148            6.5           3.0            5.2           2.0   \n",
       "148  149            6.2           3.4            5.4           2.3   \n",
       "149  150            5.9           3.0            5.1           1.8   \n",
       "\n",
       "            Species  \n",
       "145  Iris-virginica  \n",
       "146  Iris-virginica  \n",
       "147  Iris-virginica  \n",
       "148  Iris-virginica  \n",
       "149  Iris-virginica  "
      ]
     },
     "execution_count": 5,
     "metadata": {},
     "output_type": "execute_result"
    }
   ],
   "source": [
    "df.tail()"
   ]
  },
  {
   "cell_type": "code",
   "execution_count": 84,
   "id": "1cb6022b",
   "metadata": {},
   "outputs": [],
   "source": [
    "X=df.iloc[:,3:5].to_numpy()\n",
    "y= df['Species'].replace({'Iris-setosa':0, 'Iris-versicolor':1, 'Iris-virginica':2}).to_numpy()"
   ]
  },
  {
   "cell_type": "code",
   "execution_count": 89,
   "id": "1e4e8dff",
   "metadata": {},
   "outputs": [],
   "source": [
    "X_train, X_test, y_train, y_test = train_test_split(X,y, test_size=0.3, random_state=123, shuffle=True)"
   ]
  },
  {
   "cell_type": "code",
   "execution_count": null,
   "id": "1dedc97e",
   "metadata": {},
   "outputs": [],
   "source": []
  },
  {
   "cell_type": "code",
   "execution_count": 100,
   "id": "fbe77bae",
   "metadata": {},
   "outputs": [],
   "source": [
    "def euclidian(x1,x2):\n",
    "    return np.sqrt(np.sum(np.square(x1-x2)))"
   ]
  },
  {
   "cell_type": "code",
   "execution_count": 110,
   "id": "743cda57",
   "metadata": {},
   "outputs": [
    {
     "name": "stdout",
     "output_type": "stream",
     "text": [
      "[5.1 2.4]\n",
      "[4.9 1.5]\n"
     ]
    }
   ],
   "source": [
    "print(X_train[0])\n",
    "print(X_test[0])"
   ]
  },
  {
   "cell_type": "code",
   "execution_count": 113,
   "id": "909cb55c",
   "metadata": {},
   "outputs": [
    {
     "data": {
      "text/plain": [
       "0.9219544457292888"
      ]
     },
     "execution_count": 113,
     "metadata": {},
     "output_type": "execute_result"
    }
   ],
   "source": [
    "np.sqrt((0.2**2)+(0.9**2))"
   ]
  },
  {
   "cell_type": "code",
   "execution_count": 114,
   "id": "af0ae1f3",
   "metadata": {},
   "outputs": [
    {
     "data": {
      "text/plain": [
       "0.9219544457292885"
      ]
     },
     "execution_count": 114,
     "metadata": {},
     "output_type": "execute_result"
    }
   ],
   "source": [
    "euclidian(X_test[0],X_train[0])"
   ]
  },
  {
   "cell_type": "code",
   "execution_count": 117,
   "id": "8ec53ffa",
   "metadata": {},
   "outputs": [],
   "source": [
    "dist_arr_0 = np.array([euclidian(X_train[i],X_test[0]) for i in range(X_train.shape[0])])"
   ]
  },
  {
   "cell_type": "code",
   "execution_count": 121,
   "id": "3e0132d8",
   "metadata": {},
   "outputs": [
    {
     "data": {
      "text/plain": [
       "array([0.92195445, 1.14017543, 0.92195445, 3.60555128, 3.82753184,\n",
       "       0.53851648, 3.35261092, 3.67695526, 0.2       , 0.31622777,\n",
       "       0.92195445, 1.48660687, 0.4472136 , 0.50990195, 0.89442719,\n",
       "       3.79473319, 1.        , 0.76157731, 3.57351368, 3.54682957,\n",
       "       0.76157731, 0.63245553, 1.86815417, 2.15406592, 3.19530906,\n",
       "       0.4       , 1.3       , 0.36055513, 3.76961536, 0.90553851,\n",
       "       0.2236068 , 0.2236068 , 3.54682957, 0.92195445, 0.41231056,\n",
       "       3.42052628, 3.73363094, 0.92195445, 0.3       , 1.48660687,\n",
       "       3.92173431, 3.7       , 1.17046999, 3.47850543, 0.31622777,\n",
       "       0.78102497, 3.54682957, 0.9486833 , 3.57351368, 3.4176015 ,\n",
       "       0.2236068 , 4.11096096, 3.64005494, 0.36055513, 1.43178211,\n",
       "       0.50990195, 1.31529464, 1.07703296, 3.64005494, 3.79473319,\n",
       "       0.14142136, 0.70710678, 3.67695526, 3.64005494, 0.72801099,\n",
       "       0.41231056, 0.63245553, 1.16619038, 0.        , 0.9486833 ,\n",
       "       0.82462113, 1.80277564, 3.64005494, 3.64005494, 0.7       ,\n",
       "       1.13137085, 0.67082039, 1.14017543, 0.58309519, 3.64005494,\n",
       "       0.4       , 3.82753184, 0.94339811, 0.4472136 , 3.73363094,\n",
       "       0.4       , 1.14017543, 0.4       , 1.28062485, 0.56568542,\n",
       "       3.67695526, 0.36055513, 3.73363094, 0.94339811, 0.50990195,\n",
       "       0.72801099, 1.67630546, 0.3       , 0.4472136 , 0.2236068 ,\n",
       "       3.7       , 1.94164878, 0.4       , 0.31622777, 1.56204994])"
      ]
     },
     "execution_count": 121,
     "metadata": {},
     "output_type": "execute_result"
    }
   ],
   "source": [
    "dist_arr_0"
   ]
  },
  {
   "cell_type": "code",
   "execution_count": 122,
   "id": "3b42d483",
   "metadata": {},
   "outputs": [
    {
     "data": {
      "text/plain": [
       "array([ 68,  60,   8,  99,  50,  31,  30,  97,  38,  44, 103,   9,  27,\n",
       "        91,  53,  87, 102,  80,  85,  25,  34,  65,  12,  83,  98,  94,\n",
       "        55,  13,   5,  89,  78,  66,  21,  76,  74,  61,  95,  64,  20,\n",
       "        17,  45,  70,  14,  29,  33,   0,   2,  10,  37,  93,  82,  47,\n",
       "        69,  16,  57,  75,  86,  77,   1,  67,  42,  88,  26,  56,  54,\n",
       "        39,  11, 104,  96,  71,  22, 101,  23,  24,   6,  49,  35,  43,\n",
       "        19,  32,  46,  18,  48,   3,  63,  52,  58,  72,  79,  73,  62,\n",
       "        90,   7, 100,  41,  36,  92,  84,  28,  59,  15,  81,   4,  40,\n",
       "        51], dtype=int64)"
      ]
     },
     "execution_count": 122,
     "metadata": {},
     "output_type": "execute_result"
    }
   ],
   "source": [
    "np.argsort(dist_arr_0)"
   ]
  },
  {
   "cell_type": "code",
   "execution_count": null,
   "id": "c2f205af",
   "metadata": {},
   "outputs": [],
   "source": [
    "dist_arr_0[]"
   ]
  },
  {
   "cell_type": "code",
   "execution_count": 120,
   "id": "dfb5f7a7",
   "metadata": {},
   "outputs": [
    {
     "data": {
      "text/plain": [
       "array([0.        , 0.14142136, 0.2       , 0.2236068 , 0.2236068 ,\n",
       "       0.2236068 , 0.2236068 , 0.3       , 0.3       , 0.31622777,\n",
       "       0.31622777, 0.31622777, 0.36055513, 0.36055513, 0.36055513,\n",
       "       0.4       , 0.4       , 0.4       , 0.4       , 0.4       ,\n",
       "       0.41231056, 0.41231056, 0.4472136 , 0.4472136 , 0.4472136 ,\n",
       "       0.50990195, 0.50990195, 0.50990195, 0.53851648, 0.56568542,\n",
       "       0.58309519, 0.63245553, 0.63245553, 0.67082039, 0.7       ,\n",
       "       0.70710678, 0.72801099, 0.72801099, 0.76157731, 0.76157731,\n",
       "       0.78102497, 0.82462113, 0.89442719, 0.90553851, 0.92195445,\n",
       "       0.92195445, 0.92195445, 0.92195445, 0.92195445, 0.94339811,\n",
       "       0.94339811, 0.9486833 , 0.9486833 , 1.        , 1.07703296,\n",
       "       1.13137085, 1.14017543, 1.14017543, 1.14017543, 1.16619038,\n",
       "       1.17046999, 1.28062485, 1.3       , 1.31529464, 1.43178211,\n",
       "       1.48660687, 1.48660687, 1.56204994, 1.67630546, 1.80277564,\n",
       "       1.86815417, 1.94164878, 2.15406592, 3.19530906, 3.35261092,\n",
       "       3.4176015 , 3.42052628, 3.47850543, 3.54682957, 3.54682957,\n",
       "       3.54682957, 3.57351368, 3.57351368, 3.60555128, 3.64005494,\n",
       "       3.64005494, 3.64005494, 3.64005494, 3.64005494, 3.64005494,\n",
       "       3.67695526, 3.67695526, 3.67695526, 3.7       , 3.7       ,\n",
       "       3.73363094, 3.73363094, 3.73363094, 3.76961536, 3.79473319,\n",
       "       3.79473319, 3.82753184, 3.82753184, 3.92173431, 4.11096096])"
      ]
     },
     "execution_count": 120,
     "metadata": {},
     "output_type": "execute_result"
    }
   ],
   "source": [
    "np.sort(dist_arr_0)"
   ]
  },
  {
   "cell_type": "code",
   "execution_count": null,
   "id": "c47ce223",
   "metadata": {},
   "outputs": [],
   "source": [
    "def K_NN(K,x,x_train):\n",
    "    \n",
    "    "
   ]
  },
  {
   "cell_type": "code",
   "execution_count": null,
   "id": "6d5fb9f7",
   "metadata": {},
   "outputs": [],
   "source": []
  },
  {
   "cell_type": "code",
   "execution_count": 101,
   "id": "2696c850",
   "metadata": {},
   "outputs": [
    {
     "data": {
      "text/plain": [
       "0.0"
      ]
     },
     "execution_count": 101,
     "metadata": {},
     "output_type": "execute_result"
    }
   ],
   "source": [
    "euclidian(np.array([1,2,3]),np.array([1,2,3]))"
   ]
  },
  {
   "cell_type": "code",
   "execution_count": null,
   "id": "675375c8",
   "metadata": {},
   "outputs": [],
   "source": []
  },
  {
   "cell_type": "code",
   "execution_count": null,
   "id": "8a6123cb",
   "metadata": {},
   "outputs": [],
   "source": [
    "class K_NN_Classifier:\n",
    "    \n",
    "    def __init__(self,K):\n",
    "        self.K = K\n",
    "        \n",
    "    def fit(X_train):\n",
    "        \n",
    "    def predict(x1):\n",
    "        return y_hat"
   ]
  }
 ],
 "metadata": {
  "kernelspec": {
   "display_name": "Python 3 (ipykernel)",
   "language": "python",
   "name": "python3"
  },
  "language_info": {
   "codemirror_mode": {
    "name": "ipython",
    "version": 3
   },
   "file_extension": ".py",
   "mimetype": "text/x-python",
   "name": "python",
   "nbconvert_exporter": "python",
   "pygments_lexer": "ipython3",
   "version": "3.10.9"
  }
 },
 "nbformat": 4,
 "nbformat_minor": 5
}
