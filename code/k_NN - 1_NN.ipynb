{
 "cells": [
  {
   "cell_type": "code",
   "execution_count": 17,
   "id": "a3d45093",
   "metadata": {},
   "outputs": [],
   "source": [
    "import numpy as np\n",
    "import sys\n",
    "import pandas as pd\n",
    "import matplotlib.pyplot as plt\n",
    "import statistics"
   ]
  },
  {
   "cell_type": "code",
   "execution_count": 4,
   "id": "fec59bd1",
   "metadata": {},
   "outputs": [
    {
     "data": {
      "text/html": [
       "<div>\n",
       "<style scoped>\n",
       "    .dataframe tbody tr th:only-of-type {\n",
       "        vertical-align: middle;\n",
       "    }\n",
       "\n",
       "    .dataframe tbody tr th {\n",
       "        vertical-align: top;\n",
       "    }\n",
       "\n",
       "    .dataframe thead th {\n",
       "        text-align: right;\n",
       "    }\n",
       "</style>\n",
       "<table border=\"1\" class=\"dataframe\">\n",
       "  <thead>\n",
       "    <tr style=\"text-align: right;\">\n",
       "      <th></th>\n",
       "      <th>Id</th>\n",
       "      <th>SepalLengthCm</th>\n",
       "      <th>SepalWidthCm</th>\n",
       "      <th>PetalLengthCm</th>\n",
       "      <th>PetalWidthCm</th>\n",
       "      <th>Species</th>\n",
       "    </tr>\n",
       "  </thead>\n",
       "  <tbody>\n",
       "    <tr>\n",
       "      <th>0</th>\n",
       "      <td>1</td>\n",
       "      <td>5.1</td>\n",
       "      <td>3.5</td>\n",
       "      <td>1.4</td>\n",
       "      <td>0.2</td>\n",
       "      <td>Iris-setosa</td>\n",
       "    </tr>\n",
       "    <tr>\n",
       "      <th>1</th>\n",
       "      <td>2</td>\n",
       "      <td>4.9</td>\n",
       "      <td>3.0</td>\n",
       "      <td>1.4</td>\n",
       "      <td>0.2</td>\n",
       "      <td>Iris-setosa</td>\n",
       "    </tr>\n",
       "    <tr>\n",
       "      <th>2</th>\n",
       "      <td>3</td>\n",
       "      <td>4.7</td>\n",
       "      <td>3.2</td>\n",
       "      <td>1.3</td>\n",
       "      <td>0.2</td>\n",
       "      <td>Iris-setosa</td>\n",
       "    </tr>\n",
       "    <tr>\n",
       "      <th>3</th>\n",
       "      <td>4</td>\n",
       "      <td>4.6</td>\n",
       "      <td>3.1</td>\n",
       "      <td>1.5</td>\n",
       "      <td>0.2</td>\n",
       "      <td>Iris-setosa</td>\n",
       "    </tr>\n",
       "    <tr>\n",
       "      <th>4</th>\n",
       "      <td>5</td>\n",
       "      <td>5.0</td>\n",
       "      <td>3.6</td>\n",
       "      <td>1.4</td>\n",
       "      <td>0.2</td>\n",
       "      <td>Iris-setosa</td>\n",
       "    </tr>\n",
       "    <tr>\n",
       "      <th>...</th>\n",
       "      <td>...</td>\n",
       "      <td>...</td>\n",
       "      <td>...</td>\n",
       "      <td>...</td>\n",
       "      <td>...</td>\n",
       "      <td>...</td>\n",
       "    </tr>\n",
       "    <tr>\n",
       "      <th>145</th>\n",
       "      <td>146</td>\n",
       "      <td>6.7</td>\n",
       "      <td>3.0</td>\n",
       "      <td>5.2</td>\n",
       "      <td>2.3</td>\n",
       "      <td>Iris-virginica</td>\n",
       "    </tr>\n",
       "    <tr>\n",
       "      <th>146</th>\n",
       "      <td>147</td>\n",
       "      <td>6.3</td>\n",
       "      <td>2.5</td>\n",
       "      <td>5.0</td>\n",
       "      <td>1.9</td>\n",
       "      <td>Iris-virginica</td>\n",
       "    </tr>\n",
       "    <tr>\n",
       "      <th>147</th>\n",
       "      <td>148</td>\n",
       "      <td>6.5</td>\n",
       "      <td>3.0</td>\n",
       "      <td>5.2</td>\n",
       "      <td>2.0</td>\n",
       "      <td>Iris-virginica</td>\n",
       "    </tr>\n",
       "    <tr>\n",
       "      <th>148</th>\n",
       "      <td>149</td>\n",
       "      <td>6.2</td>\n",
       "      <td>3.4</td>\n",
       "      <td>5.4</td>\n",
       "      <td>2.3</td>\n",
       "      <td>Iris-virginica</td>\n",
       "    </tr>\n",
       "    <tr>\n",
       "      <th>149</th>\n",
       "      <td>150</td>\n",
       "      <td>5.9</td>\n",
       "      <td>3.0</td>\n",
       "      <td>5.1</td>\n",
       "      <td>1.8</td>\n",
       "      <td>Iris-virginica</td>\n",
       "    </tr>\n",
       "  </tbody>\n",
       "</table>\n",
       "<p>150 rows × 6 columns</p>\n",
       "</div>"
      ],
      "text/plain": [
       "      Id  SepalLengthCm  SepalWidthCm  PetalLengthCm  PetalWidthCm  \\\n",
       "0      1            5.1           3.5            1.4           0.2   \n",
       "1      2            4.9           3.0            1.4           0.2   \n",
       "2      3            4.7           3.2            1.3           0.2   \n",
       "3      4            4.6           3.1            1.5           0.2   \n",
       "4      5            5.0           3.6            1.4           0.2   \n",
       "..   ...            ...           ...            ...           ...   \n",
       "145  146            6.7           3.0            5.2           2.3   \n",
       "146  147            6.3           2.5            5.0           1.9   \n",
       "147  148            6.5           3.0            5.2           2.0   \n",
       "148  149            6.2           3.4            5.4           2.3   \n",
       "149  150            5.9           3.0            5.1           1.8   \n",
       "\n",
       "            Species  \n",
       "0       Iris-setosa  \n",
       "1       Iris-setosa  \n",
       "2       Iris-setosa  \n",
       "3       Iris-setosa  \n",
       "4       Iris-setosa  \n",
       "..              ...  \n",
       "145  Iris-virginica  \n",
       "146  Iris-virginica  \n",
       "147  Iris-virginica  \n",
       "148  Iris-virginica  \n",
       "149  Iris-virginica  \n",
       "\n",
       "[150 rows x 6 columns]"
      ]
     },
     "execution_count": 4,
     "metadata": {},
     "output_type": "execute_result"
    }
   ],
   "source": [
    "df = pd.read_csv('../data/Iris.csv')\n",
    "df"
   ]
  },
  {
   "cell_type": "code",
   "execution_count": 5,
   "id": "cfb74b38",
   "metadata": {},
   "outputs": [
    {
     "name": "stdout",
     "output_type": "stream",
     "text": [
      "['Iris-setosa' 'Iris-versicolor' 'Iris-virginica']\n"
     ]
    }
   ],
   "source": [
    "X = df[['PetalLengthCm','PetalWidthCm']].to_numpy()\n",
    "\n",
    "print(df['Species'].unique())\n",
    "\n",
    "Label_Dict = {'Iris-setosa': 0 , 'Iris-versicolor' : 1 ,'Iris-virginica' : 2}\n",
    "df['ClassLabel'] = df['Species'].map(Label_Dict)\n",
    "\n",
    "y = df['ClassLabel'].values"
   ]
  },
  {
   "cell_type": "markdown",
   "id": "61630ed6",
   "metadata": {},
   "source": [
    "#### Shuffle Dataset"
   ]
  },
  {
   "cell_type": "code",
   "execution_count": 6,
   "id": "d09b5e18",
   "metadata": {},
   "outputs": [],
   "source": [
    "import random\n",
    "rnd=np.random.RandomState(123)\n",
    "shuffled_indices = rnd.permutation(df.shape[0])\n",
    "\n",
    "X_shuffled, y_shuffled = X[shuffled_indices],y[shuffled_indices]\n"
   ]
  },
  {
   "cell_type": "markdown",
   "id": "b720ff91",
   "metadata": {},
   "source": [
    "### Split dataset into test and train"
   ]
  },
  {
   "cell_type": "code",
   "execution_count": 7,
   "id": "5b950c65",
   "metadata": {},
   "outputs": [],
   "source": [
    "split_train= int(X.shape[0]*0.7)\n",
    "X_train, y_train = X_shuffled[:split_train], y_shuffled[:split_train]\n",
    "X_test, y_test = X_shuffled[split_train:], y_shuffled[split_train:]"
   ]
  },
  {
   "cell_type": "code",
   "execution_count": 8,
   "id": "74f9feb8",
   "metadata": {},
   "outputs": [
    {
     "data": {
      "image/png": "[encoded data removed]",
      "text/plain": [
       "<Figure size 640x480 with 1 Axes>"
      ]
     },
     "metadata": {},
     "output_type": "display_data"
    }
   ],
   "source": [
    "plt.scatter(X_train[y_train==0,0],\n",
    "            X_train[y_train==0,1],\n",
    "           marker= 'o',\n",
    "           label = 'Class-0 Setosa ')\n",
    "\n",
    "plt.scatter(X_train[y_train == 1, 0],\n",
    "            X_train[y_train == 1, 1],\n",
    "            marker='^',\n",
    "            label='class 1 (Versicolor)')\n",
    "\n",
    "plt.scatter(X_train[y_train == 2, 0],\n",
    "            X_train[y_train == 2, 1],\n",
    "            marker='s',\n",
    "            label='class 2 (Virginica)')\n",
    "\n",
    "plt.xlabel('PetalLengthCm')\n",
    "plt.ylabel('PetalWidthCm')\n",
    "plt.legend()    \n",
    "plt.show()"
   ]
  },
  {
   "cell_type": "markdown",
   "id": "f91fae24",
   "metadata": {},
   "source": [
    "### 1 - NN from scratch"
   ]
  },
  {
   "cell_type": "code",
   "execution_count": 9,
   "id": "453ba19a",
   "metadata": {},
   "outputs": [
    {
     "data": {
      "text/plain": [
       "1"
      ]
     },
     "execution_count": 9,
     "metadata": {},
     "output_type": "execute_result"
    }
   ],
   "source": [
    "y_train[18]"
   ]
  },
  {
   "cell_type": "code",
   "execution_count": 33,
   "id": "65673a98",
   "metadata": {},
   "outputs": [
    {
     "name": "stdout",
     "output_type": "stream",
     "text": [
      "The nearest neighbour is 18th data point and its label is 1\n"
     ]
    }
   ],
   "source": [
    "def distance(x1,x2):\n",
    "    return np.sqrt(sum((x1-x2)**2))\n",
    "\n",
    "def k1_NN_classifier(x1,X_train):\n",
    "    d=np.inf\n",
    "    for i in range(X_train.shape[0]):\n",
    "        if (distance(x1,X_train[i]) < d):\n",
    "            d = distance(x1,X_train[i])\n",
    "            index = i \n",
    "    y_hat = y_train[index]\n",
    "    return y_hat, index \n",
    "\n",
    "y_hat,NN=k1_NN(X_test[0],X_train)\n",
    "\n",
    "print(f'The nearest neighbour is {NN}th data point and its label is {y_hat}')"
   ]
  },
  {
   "cell_type": "markdown",
   "id": "a1d306a5",
   "metadata": {},
   "source": [
    "### k-NN from scratch "
   ]
  },
  {
   "cell_type": "markdown",
   "id": "b78bb0ae",
   "metadata": {},
   "source": [
    "np.delete(X_train, (0), axis=0).shape\n",
    "Reusablle code from 1NN"
   ]
  },
  {
   "cell_type": "code",
   "execution_count": 78,
   "id": "44705660",
   "metadata": {},
   "outputs": [],
   "source": [
    "def k_NN_classifier(x1,X_train, N):\n",
    "    index_ls = []\n",
    "#     D = X_train.copy()\n",
    "    j=0\n",
    "    while (j<N):\n",
    "        \n",
    "        d=np.inf\n",
    "        for i in range(X_train.shape[0]):\n",
    "            if(i in index_ls):\n",
    "                continue\n",
    "            if (distance(x1,X_train[i]) < d):\n",
    "                d = distance(x1,X_train[i])\n",
    "                index = i \n",
    "        index_ls.append(index)\n",
    "        \n",
    "        j+=1\n",
    "#     y_hat = statistics.mode(y_train[index_ls])\n",
    "    return index_ls\n",
    "# , y_hat"
   ]
  },
  {
   "cell_type": "code",
   "execution_count": 47,
   "id": "87239a1c",
   "metadata": {},
   "outputs": [],
   "source": [
    "# def score(X,y):\n",
    "    "
   ]
  },
  {
   "cell_type": "code",
   "execution_count": 85,
   "id": "f2a2b36d",
   "metadata": {},
   "outputs": [],
   "source": [
    "Y_pred_ls=[]\n",
    "for i in range(X_test.shape[0]):\n",
    "    labels=y_train[k_NN_index(X_test[i],X_train,3)]\n",
    "    Y_pred =  statistics.mode(labels)\n",
    "    Y_pred_ls.append(Y_pred)"
   ]
  },
  {
   "cell_type": "code",
   "execution_count": null,
   "id": "bccf25a5",
   "metadata": {},
   "outputs": [],
   "source": []
  },
  {
   "cell_type": "markdown",
   "id": "6b5f48b1",
   "metadata": {},
   "source": [
    "### Using Argsort "
   ]
  },
  {
   "cell_type": "code",
   "execution_count": null,
   "id": "381097fd",
   "metadata": {},
   "outputs": [],
   "source": []
  }
 ],
 "metadata": {
  "kernelspec": {
   "display_name": "Python 3 (ipykernel)",
   "language": "python",
   "name": "python3"
  },
  "language_info": {
   "codemirror_mode": {
    "name": "ipython",
    "version": 3
   },
   "file_extension": ".py",
   "mimetype": "text/x-python",
   "name": "python",
   "nbconvert_exporter": "python",
   "pygments_lexer": "ipython3",
   "version": "3.10.9"
  }
 },
 "nbformat": 4,
 "nbformat_minor": 5
}
